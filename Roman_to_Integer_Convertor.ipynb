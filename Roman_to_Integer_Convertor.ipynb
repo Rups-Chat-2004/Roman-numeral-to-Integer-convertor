{
  "nbformat": 4,
  "nbformat_minor": 0,
  "metadata": {
    "colab": {
      "provenance": [],
      "authorship_tag": "ABX9TyPicettdNZssem7rRMxgi/L",
      "include_colab_link": true
    },
    "kernelspec": {
      "name": "python3",
      "display_name": "Python 3"
    },
    "language_info": {
      "name": "python"
    }
  },
  "cells": [
    {
      "cell_type": "markdown",
      "metadata": {
        "id": "view-in-github",
        "colab_type": "text"
      },
      "source": [
        "<a href=\"https://colab.research.google.com/github/Rups-Chat-2004/Roman-numeral-to-Integer-convertor/blob/main/Roman_to_Integer_Convertor.ipynb\" target=\"_parent\"><img src=\"https://colab.research.google.com/assets/colab-badge.svg\" alt=\"Open In Colab\"/></a>"
      ]
    },
    {
      "cell_type": "code",
      "source": [
        "def roman_to_int(s):\n",
        "    roman_numerals = {'i': 1, 'v': 5, 'x': 10, 'l': 50, 'c': 100, 'd': 500, 'm': 1000}\n",
        "    result = 0\n",
        "    prev_value = 0\n",
        "\n",
        "    for numeral in reversed(s.lower()):\n",
        "        value = roman_numerals[numeral]\n",
        "        if value < prev_value:\n",
        "            result -= value\n",
        "        else:\n",
        "            result += value\n",
        "        prev_value = value\n",
        "\n",
        "    return result\n",
        "\n"
      ],
      "metadata": {
        "id": "CtNTnQmHkt9f"
      },
      "execution_count": null,
      "outputs": []
    },
    {
      "cell_type": "code",
      "source": [
        "def int_to_roman(num):\n",
        "    values = [1000, 900, 500, 400, 100, 90, 50, 40, 10, 9, 5, 4, 1]\n",
        "    numerals = ['M', 'CM', 'D', 'CD', 'C', 'XC', 'L', 'XL', 'X', 'IX', 'V', 'IV', 'I']\n",
        "    result = ''\n",
        "\n",
        "    for i in range(len(values)):\n",
        "        while num >= values[i]:\n",
        "            result += numerals[i]\n",
        "            num -= values[i]\n",
        "\n",
        "    return result\n"
      ],
      "metadata": {
        "id": "J8TPOH4JkyTF"
      },
      "execution_count": null,
      "outputs": []
    },
    {
      "cell_type": "code",
      "source": [
        "while True:\n",
        "    print(\"Choose an option:\")\n",
        "    print(\"1. Convert Roman to Integer\")\n",
        "    print(\"2. Convert Integer to Roman\")\n",
        "    print(\"3. Quit\")\n",
        "\n",
        "    choice = input(\"Enter your choice (1/2/3): \")\n",
        "\n",
        "    if choice == '1':\n",
        "        roman_input = input(\"Enter a Roman numeral: \")\n",
        "        try:\n",
        "            integer_output = roman_to_int(roman_input)\n",
        "            print(f\"The integer equivalent is: {integer_output}\")\n",
        "        except KeyError:\n",
        "            print(\"Invalid Roman numeral entered. Please try again.\")\n",
        "\n",
        "    elif choice == '2':\n",
        "        try:\n",
        "            integer_input = int(input(\"Enter an integer: \"))\n",
        "            roman_output = int_to_roman(integer_input)\n",
        "            print(f\"The Roman numeral equivalent is: {roman_output}\")\n",
        "        except ValueError:\n",
        "            print(\"Invalid input. Please enter a valid integer.\")\n",
        "\n",
        "    elif choice == '3':\n",
        "        print(\"Exiting the program. Goodbye!\")\n",
        "        break\n",
        "\n",
        "    else:\n",
        "        print(\"Invalid choice. Please enter 1, 2, or 3.\")\n"
      ],
      "metadata": {
        "id": "8WAz78m7k2k4"
      },
      "execution_count": null,
      "outputs": []
    }
  ]
}